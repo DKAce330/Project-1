{
 "cells": [
  {
   "cell_type": "code",
   "execution_count": 19,
   "id": "85d780fe",
   "metadata": {},
   "outputs": [],
   "source": [
    "#First, imports\n",
    "import time\n",
    "import requests\n",
    "import json\n",
    "import pandas as pd\n",
    "from config import apikey"
   ]
  },
  {
   "cell_type": "code",
   "execution_count": 17,
   "id": "ccc252c6",
   "metadata": {},
   "outputs": [],
   "source": [
    "#Start by accessing api\n",
    "base_url=f\"https://api.polygon.io/v2/aggs/ticker/\"\n",
    "#Beer=BUDweiser and coors(TAP), Soda=COKE and PEPsi, Coffee=dutchBROS and StarBUX \n",
    "tickers=[\"BUD\",\"TAP\",\"COKE\",\"PEP\",\"BROS\",\"SBUX\"]"
   ]
  },
  {
   "cell_type": "code",
   "execution_count": null,
   "id": "07ab3faf",
   "metadata": {},
   "outputs": [
    {
     "name": "stdout",
     "output_type": "stream",
     "text": [
      "{\"status\": \"ERROR\", \"request_id\": \"6a3406e8cb21cee1b5684c2b684f6b91\", \"error\": \"Unknown API Key\"}\n",
      "{\"status\": \"ERROR\", \"request_id\": \"e052d93879ce0f69980515b4698adc76\", \"error\": \"Unknown API Key\"}\n",
      "{\"status\": \"ERROR\", \"request_id\": \"15bf3309f8c7408509ca16aaf745712d\", \"error\": \"Unknown API Key\"}\n"
     ]
    }
   ],
   "source": [
    "for tick in tickers:\n",
    "    full_url=base_url+f\"{tick}/range/12/month/2019-01-01/2023-01-01?adjusted=true&sort=asc&limit=120&apiKey={apikey}\"\n",
    "    data = requests.get(full_url)\n",
    "    data = data.json()\n",
    "    print(json.dumps(data))\n",
    "    time.sleep(12) #limited to 5 pulls per miniute, timer allows for the sixth call "
   ]
  },
  {
   "cell_type": "code",
   "execution_count": null,
   "id": "49d0c6df",
   "metadata": {},
   "outputs": [],
   "source": []
  }
 ],
 "metadata": {
  "kernelspec": {
   "display_name": "PythonData",
   "language": "python",
   "name": "pythondata"
  },
  "language_info": {
   "codemirror_mode": {
    "name": "ipython",
    "version": 3
   },
   "file_extension": ".py",
   "mimetype": "text/x-python",
   "name": "python",
   "nbconvert_exporter": "python",
   "pygments_lexer": "ipython3",
   "version": "3.7.7"
  }
 },
 "nbformat": 4,
 "nbformat_minor": 5
}
